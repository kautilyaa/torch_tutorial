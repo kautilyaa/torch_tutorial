{
 "cells": [
  {
   "cell_type": "markdown",
   "id": "26b5d481",
   "metadata": {},
   "source": [
    "# What is a Tensor?\n",
    "\n",
    "A tensor is a multi-dimensional array that is a fundamental building block in PyTorch (and other machine learning libraries like TensorFlow). Tensors are similar to NumPy arrays, but they come with additional capabilities, particularly for GPU acceleration, which makes them powerful for deep learning tasks.\n",
    "\n",
    "## Key Points about Tensors:\n",
    "\n",
    "### Multi-dimensional Arrays:\n",
    "\n",
    "Tensors can have zero or more dimensions. For example:\n",
    "- A scalar (single number) is a 0-dimensional tensor.\n",
    "- A vector (1D array) is a 1-dimensional tensor.\n",
    "- A matrix (2D array) is a 2-dimensional tensor.\n",
    "- Higher-dimensional tensors (3D, 4D, etc.) can be used to represent more complex data.\n",
    "\n",
    "### Data Types:\n",
    "\n",
    "Tensors can hold various types of data, such as floats, integers, and more. The most common data type for deep learning tasks is a floating-point number (float32).\n",
    "\n",
    "### Device Support:\n",
    "\n",
    "Tensors can be moved to and processed on different devices, such as CPUs or GPUs. This allows for efficient computations in deep learning."
   ]
  },
  {
   "cell_type": "markdown",
   "id": "efdd023b",
   "metadata": {},
   "source": [
    "## Creating Tensors:\n",
    "\n",
    "Here are some examples of how to create and manipulate tensors in PyTorch:\n",
    "\n",
    "### Import PyTorch:"
   ]
  },
  {
   "cell_type": "code",
   "execution_count": 1,
   "id": "79586a63",
   "metadata": {},
   "outputs": [],
   "source": [
    "import torch"
   ]
  },
  {
   "cell_type": "markdown",
   "id": "4bcf0a45",
   "metadata": {},
   "source": [
    "### Creating Tensors:\n",
    "\n",
    "#### From a list:"
   ]
  },
  {
   "cell_type": "code",
   "execution_count": 2,
   "id": "5c7d3237",
   "metadata": {},
   "outputs": [
    {
     "name": "stdout",
     "output_type": "stream",
     "text": [
      "tensor([1, 2, 3])\n"
     ]
    }
   ],
   "source": [
    "tensor_from_list = torch.tensor([1, 2, 3])\n",
    "print(tensor_from_list)"
   ]
  },
  {
   "cell_type": "markdown",
   "id": "a23614bb",
   "metadata": {},
   "source": [
    "#### Random tensor:"
   ]
  },
  {
   "cell_type": "code",
   "execution_count": 3,
   "id": "e2481e2d",
   "metadata": {},
   "outputs": [
    {
     "name": "stdout",
     "output_type": "stream",
     "text": [
      "tensor([[0.4447, 0.3214, 0.6253],\n",
      "        [0.1357, 0.6016, 0.4085]])\n"
     ]
    }
   ],
   "source": [
    "random_tensor = torch.rand(2, 3)\n",
    "print(random_tensor)"
   ]
  },
  {
   "cell_type": "markdown",
   "id": "a5fc46c9",
   "metadata": {},
   "source": [
    "#### Tensor filled with zeros:"
   ]
  },
  {
   "cell_type": "code",
   "execution_count": 4,
   "id": "f41a4aca",
   "metadata": {},
   "outputs": [
    {
     "name": "stdout",
     "output_type": "stream",
     "text": [
      "tensor([[0., 0., 0.],\n",
      "        [0., 0., 0.]])\n"
     ]
    }
   ],
   "source": [
    "zeros_tensor = torch.zeros(2, 3)\n",
    "print(zeros_tensor)"
   ]
  },
  {
   "cell_type": "markdown",
   "id": "504ca1b6",
   "metadata": {},
   "source": [
    "#### Tensor filled with ones:"
   ]
  },
  {
   "cell_type": "code",
   "execution_count": 5,
   "id": "bfdf8b0a",
   "metadata": {},
   "outputs": [
    {
     "name": "stdout",
     "output_type": "stream",
     "text": [
      "tensor([[1., 1., 1.],\n",
      "        [1., 1., 1.]])\n"
     ]
    }
   ],
   "source": [
    "ones_tensor = torch.ones(2, 3)\n",
    "print(ones_tensor)"
   ]
  },
  {
   "cell_type": "markdown",
   "id": "900edaa7",
   "metadata": {},
   "source": [
    "### Tensor Properties:\n",
    "\n",
    "#### Shape: The dimensions of the tensor."
   ]
  },
  {
   "cell_type": "code",
   "execution_count": 6,
   "id": "6d3836e4",
   "metadata": {},
   "outputs": [
    {
     "name": "stdout",
     "output_type": "stream",
     "text": [
      "torch.Size([3])\n"
     ]
    }
   ],
   "source": [
    "print(tensor_from_list.shape)"
   ]
  },
  {
   "cell_type": "markdown",
   "id": "40c066a9",
   "metadata": {},
   "source": [
    "#### Data Type: The type of data stored in the tensor."
   ]
  },
  {
   "cell_type": "code",
   "execution_count": 7,
   "id": "26061804",
   "metadata": {},
   "outputs": [
    {
     "name": "stdout",
     "output_type": "stream",
     "text": [
      "torch.int64\n"
     ]
    }
   ],
   "source": [
    "print(tensor_from_list.dtype)"
   ]
  },
  {
   "cell_type": "markdown",
   "id": "21d995f2",
   "metadata": {},
   "source": [
    "### Basic Tensor Operations:\n",
    "\n",
    "#### Addition:"
   ]
  },
  {
   "cell_type": "code",
   "execution_count": 8,
   "id": "22d4571c",
   "metadata": {},
   "outputs": [
    {
     "name": "stdout",
     "output_type": "stream",
     "text": [
      "tensor([5, 7, 9])\n"
     ]
    }
   ],
   "source": [
    "a = torch.tensor([1, 2, 3])\n",
    "b = torch.tensor([4, 5, 6])\n",
    "result = a + b\n",
    "print(result)"
   ]
  },
  {
   "cell_type": "markdown",
   "id": "120ce99c",
   "metadata": {},
   "source": [
    "#### Matrix multiplication:"
   ]
  },
  {
   "cell_type": "code",
   "execution_count": 9,
   "id": "8d13f5a0",
   "metadata": {},
   "outputs": [
    {
     "name": "stdout",
     "output_type": "stream",
     "text": [
      "tensor([[0.2972, 0.4080],\n",
      "        [0.4839, 0.6842]])\n"
     ]
    }
   ],
   "source": [
    "d = torch.rand(2, 3)\n",
    "e = torch.rand(3, 2)\n",
    "matrix_result = torch.matmul(d, e)\n",
    "print(d)\n",
    "print(e)\n",
    "print(matrix_result)"
   ]
  },
  {
   "cell_type": "markdown",
   "id": "03094a6b",
   "metadata": {},
   "source": [
    "## Example Code\n",
    "\n",
    "Here's a simple example demonstrating the creation and manipulation of tensors:"
   ]
  },
  {
   "cell_type": "code",
   "execution_count": 11,
   "id": "7e77cc3e",
   "metadata": {},
   "outputs": [
    {
     "name": "stdout",
     "output_type": "stream",
     "text": [
      "Tensor from list: tensor([1, 2, 3])\n",
      "Random tensor: tensor([[0.3704, 0.5043, 0.6367],\n",
      "        [0.6332, 0.2454, 0.5430]])\n",
      "Zeros tensor: tensor([[0., 0., 0.],\n",
      "        [0., 0., 0.]])\n",
      "Shape of tensor_from_list: torch.Size([3])\n",
      "Data type of tensor_from_list: torch.int64\n",
      "Addition result: tensor([5, 7, 9])\n",
      "Matrix multiplication result: tensor([[1.0407, 0.1639],\n",
      "        [0.9820, 0.5061]])\n"
     ]
    }
   ],
   "source": [
    "import torch\n",
    "\n",
    "# Create a tensor from a list\n",
    "tensor_from_list = torch.tensor([1, 2, 3])\n",
    "print('Tensor from list:', tensor_from_list)\n",
    "\n",
    "# Create a random tensor\n",
    "random_tensor = torch.rand(2, 3)\n",
    "print('Random tensor:', random_tensor)\n",
    "\n",
    "# Create a tensor filled with zeros\n",
    "zeros_tensor = torch.zeros(2, 3)\n",
    "print('Zeros tensor:', zeros_tensor)\n",
    "\n",
    "# Tensor properties\n",
    "print('Shape of tensor_from_list:', tensor_from_list.shape)\n",
    "print('Data type of tensor_from_list:', tensor_from_list.dtype)\n",
    "\n",
    "# Basic tensor operations\n",
    "a = torch.tensor([1, 2, 3])\n",
    "b = torch.tensor([4, 5, 6])\n",
    "result = a + b\n",
    "print('Addition result:', result)\n",
    "\n",
    "d = torch.rand(2, 3)\n",
    "e = torch.rand(3, 2)\n",
    "matrix_result = torch.matmul(d, e)\n",
    "print('Matrix multiplication result:', matrix_result)"
   ]
  },
  {
   "cell_type": "code",
   "execution_count": 19,
   "id": "c27225b1",
   "metadata": {},
   "outputs": [
    {
     "data": {
      "text/plain": [
       "tensor([[9, 4, 6, 9, 8, 9, 5, 3, 8, 4],\n",
       "        [7, 7, 5, 1, 7, 2, 3, 2, 8, 0],\n",
       "        [0, 6, 8, 9, 7, 5, 4, 2, 6, 7],\n",
       "        [7, 0, 2, 2, 2, 4, 0, 2, 3, 2],\n",
       "        [7, 0, 0, 2, 2, 7, 9, 1, 6, 5],\n",
       "        [3, 2, 0, 2, 6, 0, 1, 2, 3, 6],\n",
       "        [7, 1, 3, 4, 6, 0, 9, 6, 2, 2],\n",
       "        [4, 0, 6, 7, 2, 1, 1, 9, 1, 5],\n",
       "        [3, 9, 2, 8, 3, 7, 8, 7, 5, 1],\n",
       "        [7, 0, 9, 2, 3, 4, 7, 1, 1, 4]])"
      ]
     },
     "execution_count": 19,
     "metadata": {},
     "output_type": "execute_result"
    }
   ],
   "source": [
    "tensor = torch.randint(low=0, high =10, size=(10,10))\n",
    "tensor"
   ]
  },
  {
   "cell_type": "code",
   "execution_count": 18,
   "id": "3696c913",
   "metadata": {},
   "outputs": [],
   "source": [
    "# Function to count occurrences in each row and column\n",
    "def count_occurrences(tensor):\n",
    "    row_counts = []\n",
    "    col_counts = []\n",
    "    \n",
    "    # Count occurrences in each row\n",
    "    for row in tensor:\n",
    "        unique, counts = torch.unique(row, return_counts=True)\n",
    "        row_counts.append(dict(zip(unique.tolist(), counts.tolist())))\n",
    "    \n",
    "    # Count occurrences in each column\n",
    "    for col in tensor.T:  # Transpose to iterate over columns\n",
    "        unique, counts = torch.unique(col, return_counts=True)\n",
    "        col_counts.append(dict(zip(unique.tolist(), counts.tolist())))\n",
    "    \n",
    "    return row_counts, col_counts"
   ]
  },
  {
   "cell_type": "code",
   "execution_count": 20,
   "id": "c523ca20",
   "metadata": {},
   "outputs": [],
   "source": [
    "# Get the counts\n",
    "row_counts, col_counts = count_occurrences(tensor)"
   ]
  },
  {
   "cell_type": "code",
   "execution_count": 21,
   "id": "342c037a",
   "metadata": {},
   "outputs": [
    {
     "data": {
      "text/plain": [
       "[{3: 1, 4: 2, 5: 1, 6: 1, 8: 2, 9: 3},\n",
       " {0: 1, 1: 1, 2: 2, 3: 1, 5: 1, 7: 3, 8: 1},\n",
       " {0: 1, 2: 1, 4: 1, 5: 1, 6: 2, 7: 2, 8: 1, 9: 1},\n",
       " {0: 2, 2: 5, 3: 1, 4: 1, 7: 1},\n",
       " {0: 2, 1: 1, 2: 2, 5: 1, 6: 1, 7: 2, 9: 1},\n",
       " {0: 2, 1: 1, 2: 3, 3: 2, 6: 2},\n",
       " {0: 1, 1: 1, 2: 2, 3: 1, 4: 1, 6: 2, 7: 1, 9: 1},\n",
       " {0: 1, 1: 3, 2: 1, 4: 1, 5: 1, 6: 1, 7: 1, 9: 1},\n",
       " {1: 1, 2: 1, 3: 2, 5: 1, 7: 2, 8: 2, 9: 1},\n",
       " {0: 1, 1: 2, 2: 1, 3: 1, 4: 2, 7: 2, 9: 1}]"
      ]
     },
     "execution_count": 21,
     "metadata": {},
     "output_type": "execute_result"
    }
   ],
   "source": [
    "row_counts"
   ]
  },
  {
   "cell_type": "code",
   "execution_count": 22,
   "id": "2e963114",
   "metadata": {},
   "outputs": [
    {
     "data": {
      "text/plain": [
       "[{0: 1, 3: 2, 4: 1, 7: 5, 9: 1},\n",
       " {0: 4, 1: 1, 2: 1, 4: 1, 6: 1, 7: 1, 9: 1},\n",
       " {0: 2, 2: 2, 3: 1, 5: 1, 6: 2, 8: 1, 9: 1},\n",
       " {1: 1, 2: 4, 4: 1, 7: 1, 8: 1, 9: 2},\n",
       " {2: 3, 3: 2, 6: 2, 7: 2, 8: 1},\n",
       " {0: 2, 1: 1, 2: 1, 4: 2, 5: 1, 7: 2, 9: 1},\n",
       " {0: 1, 1: 2, 3: 1, 4: 1, 5: 1, 7: 1, 8: 1, 9: 2},\n",
       " {1: 2, 2: 4, 3: 1, 6: 1, 7: 1, 9: 1},\n",
       " {1: 2, 2: 1, 3: 2, 5: 1, 6: 2, 8: 2},\n",
       " {0: 1, 1: 1, 2: 2, 4: 2, 5: 2, 6: 1, 7: 1}]"
      ]
     },
     "execution_count": 22,
     "metadata": {},
     "output_type": "execute_result"
    }
   ],
   "source": [
    "col_counts"
   ]
  },
  {
   "cell_type": "code",
   "execution_count": null,
   "id": "021da99c",
   "metadata": {},
   "outputs": [],
   "source": []
  }
 ],
 "metadata": {
  "kernelspec": {
   "display_name": "Python 3 (ipykernel)",
   "language": "python",
   "name": "python3"
  },
  "language_info": {
   "codemirror_mode": {
    "name": "ipython",
    "version": 3
   },
   "file_extension": ".py",
   "mimetype": "text/x-python",
   "name": "python",
   "nbconvert_exporter": "python",
   "pygments_lexer": "ipython3",
   "version": "3.10.14"
  }
 },
 "nbformat": 4,
 "nbformat_minor": 5
}
