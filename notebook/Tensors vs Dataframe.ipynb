{
 "cells": [
  {
   "cell_type": "code",
   "execution_count": 5,
   "id": "6ca54d45",
   "metadata": {},
   "outputs": [
    {
     "name": "stdout",
     "output_type": "stream",
     "text": [
      "Looking in indexes: https://download.pytorch.org/whl/cu121\n",
      "Collecting torch\n",
      "  Downloading https://download.pytorch.org/whl/cu121/torch-2.3.0%2Bcu121-cp310-cp310-linux_x86_64.whl (781.0 MB)\n",
      "\u001b[2K     \u001b[38;2;114;156;31m━━━━━━━━━━━━━━━━━━━━━━━━━━━━━━━━━━━━━━━\u001b[0m \u001b[32m781.0/781.0 MB\u001b[0m \u001b[31m6.8 MB/s\u001b[0m eta \u001b[36m0:00:00\u001b[0mm eta \u001b[36m0:00:01\u001b[0m[36m0:00:01\u001b[0m\n",
      "\u001b[?25hCollecting torchvision\n",
      "  Downloading https://download.pytorch.org/whl/cu121/torchvision-0.18.0%2Bcu121-cp310-cp310-linux_x86_64.whl (7.0 MB)\n",
      "\u001b[2K     \u001b[38;2;114;156;31m━━━━━━━━━━━━━━━━━━━━━━━━━━━━━━━━━━━━━━━━\u001b[0m \u001b[32m7.0/7.0 MB\u001b[0m \u001b[31m22.7 MB/s\u001b[0m eta \u001b[36m0:00:00\u001b[0mm eta \u001b[36m0:00:01\u001b[0m0:01\u001b[0m:01\u001b[0m\n",
      "\u001b[?25hCollecting torchaudio\n",
      "  Downloading https://download.pytorch.org/whl/cu121/torchaudio-2.3.0%2Bcu121-cp310-cp310-linux_x86_64.whl (3.4 MB)\n",
      "\u001b[2K     \u001b[38;2;114;156;31m━━━━━━━━━━━━━━━━━━━━━━━━━━━━━━━━━━━━━━━━\u001b[0m \u001b[32m3.4/3.4 MB\u001b[0m \u001b[31m14.3 MB/s\u001b[0m eta \u001b[36m0:00:00\u001b[0mm eta \u001b[36m0:00:01\u001b[0m0:01\u001b[0m:01\u001b[0m\n",
      "\u001b[?25hRequirement already satisfied: filelock in /home/arunbh/.pyenv/versions/3.10.14/envs/env310/lib/python3.10/site-packages (from torch) (3.13.3)\n",
      "Requirement already satisfied: typing-extensions>=4.8.0 in /home/arunbh/.pyenv/versions/3.10.14/envs/env310/lib/python3.10/site-packages (from torch) (4.10.0)\n",
      "Requirement already satisfied: sympy in /home/arunbh/.pyenv/versions/3.10.14/envs/env310/lib/python3.10/site-packages (from torch) (1.12)\n",
      "Requirement already satisfied: networkx in /home/arunbh/.pyenv/versions/3.10.14/envs/env310/lib/python3.10/site-packages (from torch) (3.3)\n",
      "Requirement already satisfied: jinja2 in /home/arunbh/.pyenv/versions/3.10.14/envs/env310/lib/python3.10/site-packages (from torch) (3.1.3)\n",
      "Requirement already satisfied: fsspec in /home/arunbh/.pyenv/versions/3.10.14/envs/env310/lib/python3.10/site-packages (from torch) (2024.3.1)\n",
      "Requirement already satisfied: nvidia-cuda-nvrtc-cu12==12.1.105 in /home/arunbh/.pyenv/versions/3.10.14/envs/env310/lib/python3.10/site-packages (from torch) (12.1.105)\n",
      "Requirement already satisfied: nvidia-cuda-runtime-cu12==12.1.105 in /home/arunbh/.pyenv/versions/3.10.14/envs/env310/lib/python3.10/site-packages (from torch) (12.1.105)\n",
      "Requirement already satisfied: nvidia-cuda-cupti-cu12==12.1.105 in /home/arunbh/.pyenv/versions/3.10.14/envs/env310/lib/python3.10/site-packages (from torch) (12.1.105)\n",
      "Requirement already satisfied: nvidia-cudnn-cu12==8.9.2.26 in /home/arunbh/.pyenv/versions/3.10.14/envs/env310/lib/python3.10/site-packages (from torch) (8.9.2.26)\n",
      "Requirement already satisfied: nvidia-cublas-cu12==12.1.3.1 in /home/arunbh/.pyenv/versions/3.10.14/envs/env310/lib/python3.10/site-packages (from torch) (12.1.3.1)\n",
      "Requirement already satisfied: nvidia-cufft-cu12==11.0.2.54 in /home/arunbh/.pyenv/versions/3.10.14/envs/env310/lib/python3.10/site-packages (from torch) (11.0.2.54)\n",
      "Requirement already satisfied: nvidia-curand-cu12==10.3.2.106 in /home/arunbh/.pyenv/versions/3.10.14/envs/env310/lib/python3.10/site-packages (from torch) (10.3.2.106)\n",
      "Requirement already satisfied: nvidia-cusolver-cu12==11.4.5.107 in /home/arunbh/.pyenv/versions/3.10.14/envs/env310/lib/python3.10/site-packages (from torch) (11.4.5.107)\n",
      "Requirement already satisfied: nvidia-cusparse-cu12==12.1.0.106 in /home/arunbh/.pyenv/versions/3.10.14/envs/env310/lib/python3.10/site-packages (from torch) (12.1.0.106)\n",
      "Requirement already satisfied: nvidia-nccl-cu12==2.20.5 in /home/arunbh/.pyenv/versions/3.10.14/envs/env310/lib/python3.10/site-packages (from torch) (2.20.5)\n",
      "Requirement already satisfied: nvidia-nvtx-cu12==12.1.105 in /home/arunbh/.pyenv/versions/3.10.14/envs/env310/lib/python3.10/site-packages (from torch) (12.1.105)\n",
      "Requirement already satisfied: triton==2.3.0 in /home/arunbh/.pyenv/versions/3.10.14/envs/env310/lib/python3.10/site-packages (from torch) (2.3.0)\n",
      "Requirement already satisfied: nvidia-nvjitlink-cu12 in /home/arunbh/.pyenv/versions/3.10.14/envs/env310/lib/python3.10/site-packages (from nvidia-cusolver-cu12==11.4.5.107->torch) (12.3.101)\n",
      "Requirement already satisfied: numpy in /home/arunbh/.pyenv/versions/3.10.14/envs/env310/lib/python3.10/site-packages (from torchvision) (1.26.4)\n",
      "Requirement already satisfied: pillow!=8.3.*,>=5.3.0 in /home/arunbh/.pyenv/versions/3.10.14/envs/env310/lib/python3.10/site-packages (from torchvision) (9.2.0)\n",
      "Requirement already satisfied: MarkupSafe>=2.0 in /home/arunbh/.pyenv/versions/3.10.14/envs/env310/lib/python3.10/site-packages (from jinja2->torch) (2.1.5)\n",
      "Requirement already satisfied: mpmath>=0.19 in /home/arunbh/.pyenv/versions/3.10.14/envs/env310/lib/python3.10/site-packages (from sympy->torch) (1.3.0)\n",
      "Installing collected packages: torch, torchvision, torchaudio\n",
      "Successfully installed torch-2.3.0+cu121 torchaudio-2.3.0+cu121 torchvision-0.18.0+cu121\n"
     ]
    }
   ],
   "source": [
    "# !pip uninstall torch torchvision torchaudio -y\n",
    "# !pip install torch torchvision torchaudio --index-url https://download.pytorch.org/whl/cu121"
   ]
  },
  {
   "cell_type": "code",
   "execution_count": 14,
   "id": "bc3011fe",
   "metadata": {},
   "outputs": [],
   "source": [
    "import torch\n",
    "# torch.__verison__"
   ]
  },
  {
   "cell_type": "code",
   "execution_count": 13,
   "id": "211430ba",
   "metadata": {},
   "outputs": [
    {
     "data": {
      "text/plain": [
       "'2.3.0+cu121'"
      ]
     },
     "execution_count": 13,
     "metadata": {},
     "output_type": "execute_result"
    }
   ],
   "source": [
    "torch.version.__version__"
   ]
  },
  {
   "cell_type": "code",
   "execution_count": 10,
   "id": "76cd16ea",
   "metadata": {},
   "outputs": [
    {
     "data": {
      "text/plain": [
       "True"
      ]
     },
     "execution_count": 10,
     "metadata": {},
     "output_type": "execute_result"
    }
   ],
   "source": [
    "import torch\n",
    "torch.cuda.is_available()"
   ]
  },
  {
   "cell_type": "markdown",
   "id": "e30337df",
   "metadata": {},
   "source": [
    "# Tensors\n",
    "\n",
    "**Definition:**\n",
    "- Tensors are multi-dimensional arrays used in PyTorch (and other machine learning libraries like TensorFlow) for numerical computations. They can be thought of as generalizations of scalars, vectors, and matrices to higher dimensions.\n",
    "\n",
    "**Key Characteristics:**\n",
    "- **Dimensionality:** Tensors can have any number of dimensions (0D for scalars, 1D for vectors, 2D for matrices, and higher dimensions for more complex structures).\n",
    "- **Operations:** Tensors support a wide range of mathematical operations, including linear algebra operations, element-wise operations, and more.\n",
    "- **Device Support:** Tensors can be moved to and processed on different devices, such as CPUs or GPUs, which is crucial for deep learning.\n",
    "- **Data Types:** Tensors can hold various data types (float, int, etc.), but they are typically used for numerical data.\n",
    "\n",
    "**Usage Example:**\n"
   ]
  },
  {
   "cell_type": "code",
   "execution_count": 15,
   "id": "317ad232",
   "metadata": {},
   "outputs": [
    {
     "name": "stdout",
     "output_type": "stream",
     "text": [
      "tensor([[3, 4],\n",
      "        [5, 6]])\n"
     ]
    }
   ],
   "source": [
    "import torch\n",
    "\n",
    "# Creating a tensor\n",
    "tensor = torch.tensor([[1, 2], [3, 4]])\n",
    "\n",
    "# Basic operations\n",
    "result = tensor + 2\n",
    "print(result)\n"
   ]
  },
  {
   "cell_type": "markdown",
   "id": "fb411736",
   "metadata": {},
   "source": [
    "\n",
    "\n",
    "# DataFrames\n",
    "\n",
    "**Definition:**\n",
    "- DataFrames are 2-dimensional labeled data structures used in pandas (a Python library for data manipulation and analysis). They are similar to tables in a relational database or Excel spreadsheets.\n",
    "\n",
    "**Key Characteristics:**\n",
    "- **Dimensionality:** DataFrames are strictly 2D, consisting of rows and columns.\n",
    "- **Labeled Data:** DataFrames have labeled axes (rows and columns), making it easy to access data by column name or row index.\n",
    "- **Heterogeneous Data:** DataFrames can contain different types of data (integers, floats, strings, etc.) in different columns.\n",
    "- **Operations:** DataFrames support a wide range of data manipulation operations, such as filtering, grouping, and merging.\n",
    "\n",
    "**Usage Example:**\n",
    "\n"
   ]
  },
  {
   "cell_type": "code",
   "execution_count": 16,
   "id": "8d5de33c",
   "metadata": {},
   "outputs": [
    {
     "name": "stdout",
     "output_type": "stream",
     "text": [
      "    Name  Age\n",
      "0  Alice   26\n",
      "1    Bob   31\n"
     ]
    }
   ],
   "source": [
    "import pandas as pd\n",
    "\n",
    "# Creating a DataFrame\n",
    "data = {'Name': ['Alice', 'Bob'], 'Age': [25, 30]}\n",
    "df = pd.DataFrame(data)\n",
    "\n",
    "# Basic operations\n",
    "df['Age'] = df['Age'] + 1\n",
    "print(df)\n"
   ]
  },
  {
   "cell_type": "markdown",
   "id": "7d484419",
   "metadata": {},
   "source": [
    "\n",
    "# Comparison\n",
    "\n",
    "| Feature             | Tensor                          | DataFrame                         |\n",
    "|---------------------|---------------------------------|-----------------------------------|\n",
    "| Library             | PyTorch, TensorFlow             | pandas                            |\n",
    "| Dimensionality      | Multi-dimensional (0D, 1D, 2D, ...) | 2D (rows and columns)             |\n",
    "| Labels              | No                              | Yes (row and column labels)       |\n",
    "| Data Types          | Typically homogeneous (numerical)| Heterogeneous                     |\n",
    "| Operations          | Mathematical operations, deep learning| Data manipulation, analysis       |\n",
    "| Device Support      | CPU, GPU                        | CPU                               |\n",
    "| Typical Use Cases   | Numerical computations, deep learning | Data analysis, manipulation        |\n",
    "\n",
    "# When to Use Each\n",
    "\n",
    "- **Tensors:** Use tensors when you are working with numerical data and need to perform mathematical computations, particularly in the context of machine learning and deep learning models.\n",
    "- **DataFrames:** Use dataframes when you are working with structured data that includes various data types and you need to perform data manipulation and analysis tasks.\n",
    "\n",
    "# Example Scenario\n",
    "\n",
    "Imagine you are building a machine learning model to predict house prices:\n",
    "- **Data Preprocessing:** You might use a DataFrame to load and preprocess the data (e.g., handling missing values, encoding categorical variables).\n",
    "- **Model Training:** You might convert the processed data into tensors to feed into a neural network for training.\n",
    "\n"
   ]
  },
  {
   "cell_type": "code",
   "execution_count": null,
   "id": "44c63c7e",
   "metadata": {},
   "outputs": [],
   "source": []
  }
 ],
 "metadata": {
  "kernelspec": {
   "display_name": "Python 3 (ipykernel)",
   "language": "python",
   "name": "python3"
  },
  "language_info": {
   "codemirror_mode": {
    "name": "ipython",
    "version": 3
   },
   "file_extension": ".py",
   "mimetype": "text/x-python",
   "name": "python",
   "nbconvert_exporter": "python",
   "pygments_lexer": "ipython3",
   "version": "3.10.14"
  }
 },
 "nbformat": 4,
 "nbformat_minor": 5
}
