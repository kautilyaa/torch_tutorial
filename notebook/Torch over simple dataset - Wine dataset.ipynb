{
 "cells": [
  {
   "cell_type": "code",
   "execution_count": 1,
   "id": "569d3525",
   "metadata": {},
   "outputs": [
    {
     "name": "stdout",
     "output_type": "stream",
     "text": [
      "Collecting scikit-learn\n",
      "  Downloading scikit_learn-1.5.0-cp310-cp310-manylinux_2_17_x86_64.manylinux2014_x86_64.whl.metadata (11 kB)\n",
      "Requirement already satisfied: numpy>=1.19.5 in /home/arunbh/.pyenv/versions/3.10.14/envs/env310/lib/python3.10/site-packages (from scikit-learn) (1.26.4)\n",
      "Requirement already satisfied: scipy>=1.6.0 in /home/arunbh/.pyenv/versions/3.10.14/envs/env310/lib/python3.10/site-packages (from scikit-learn) (1.13.0)\n",
      "Requirement already satisfied: joblib>=1.2.0 in /home/arunbh/.pyenv/versions/3.10.14/envs/env310/lib/python3.10/site-packages (from scikit-learn) (1.4.2)\n",
      "Collecting threadpoolctl>=3.1.0 (from scikit-learn)\n",
      "  Downloading threadpoolctl-3.5.0-py3-none-any.whl.metadata (13 kB)\n",
      "Downloading scikit_learn-1.5.0-cp310-cp310-manylinux_2_17_x86_64.manylinux2014_x86_64.whl (13.3 MB)\n",
      "\u001b[2K   \u001b[38;2;114;156;31m━━━━━━━━━━━━━━━━━━━━━━━━━━━━━━━━━━━━━━━━\u001b[0m \u001b[32m13.3/13.3 MB\u001b[0m \u001b[31m28.6 MB/s\u001b[0m eta \u001b[36m0:00:00\u001b[0mm eta \u001b[36m0:00:01\u001b[0m0:01\u001b[0m01\u001b[0m\n",
      "\u001b[?25hDownloading threadpoolctl-3.5.0-py3-none-any.whl (18 kB)\n",
      "Installing collected packages: threadpoolctl, scikit-learn\n",
      "Successfully installed scikit-learn-1.5.0 threadpoolctl-3.5.0\n"
     ]
    }
   ],
   "source": [
    "# !pip install scikit-learn"
   ]
  },
  {
   "cell_type": "code",
   "execution_count": 19,
   "id": "9d4eefa3",
   "metadata": {},
   "outputs": [],
   "source": [
    "import torch\n",
    "from torch import nn\n",
    "from torch import optim\n",
    "from torch.utils.data import Dataset, DataLoader\n",
    "from sklearn.datasets import load_wine\n",
    "from sklearn.preprocessing import StandardScaler"
   ]
  },
  {
   "cell_type": "code",
   "execution_count": 6,
   "id": "ac1a25c5",
   "metadata": {},
   "outputs": [
    {
     "data": {
      "text/plain": [
       "dict_keys(['data', 'target', 'frame', 'target_names', 'DESCR', 'feature_names'])"
      ]
     },
     "execution_count": 6,
     "metadata": {},
     "output_type": "execute_result"
    }
   ],
   "source": [
    "wine_data = load_wine()\n",
    "wine_data.keys()"
   ]
  },
  {
   "cell_type": "code",
   "execution_count": 7,
   "id": "cea96d6b",
   "metadata": {},
   "outputs": [],
   "source": [
    "X, y = wine_data[\"data\"], wine_data[\"target\"]"
   ]
  },
  {
   "cell_type": "code",
   "execution_count": 9,
   "id": "844fceb7",
   "metadata": {},
   "outputs": [
    {
     "data": {
      "text/plain": [
       "(array([[1.423e+01, 1.710e+00, 2.430e+00, ..., 1.040e+00, 3.920e+00,\n",
       "         1.065e+03],\n",
       "        [1.320e+01, 1.780e+00, 2.140e+00, ..., 1.050e+00, 3.400e+00,\n",
       "         1.050e+03],\n",
       "        [1.316e+01, 2.360e+00, 2.670e+00, ..., 1.030e+00, 3.170e+00,\n",
       "         1.185e+03],\n",
       "        ...,\n",
       "        [1.327e+01, 4.280e+00, 2.260e+00, ..., 5.900e-01, 1.560e+00,\n",
       "         8.350e+02],\n",
       "        [1.317e+01, 2.590e+00, 2.370e+00, ..., 6.000e-01, 1.620e+00,\n",
       "         8.400e+02],\n",
       "        [1.413e+01, 4.100e+00, 2.740e+00, ..., 6.100e-01, 1.600e+00,\n",
       "         5.600e+02]]),\n",
       " array([0, 0, 0, 0, 0, 0, 0, 0, 0, 0, 0, 0, 0, 0, 0, 0, 0, 0, 0, 0, 0, 0,\n",
       "        0, 0, 0, 0, 0, 0, 0, 0, 0, 0, 0, 0, 0, 0, 0, 0, 0, 0, 0, 0, 0, 0,\n",
       "        0, 0, 0, 0, 0, 0, 0, 0, 0, 0, 0, 0, 0, 0, 0, 1, 1, 1, 1, 1, 1, 1,\n",
       "        1, 1, 1, 1, 1, 1, 1, 1, 1, 1, 1, 1, 1, 1, 1, 1, 1, 1, 1, 1, 1, 1,\n",
       "        1, 1, 1, 1, 1, 1, 1, 1, 1, 1, 1, 1, 1, 1, 1, 1, 1, 1, 1, 1, 1, 1,\n",
       "        1, 1, 1, 1, 1, 1, 1, 1, 1, 1, 1, 1, 1, 1, 1, 1, 1, 1, 1, 1, 2, 2,\n",
       "        2, 2, 2, 2, 2, 2, 2, 2, 2, 2, 2, 2, 2, 2, 2, 2, 2, 2, 2, 2, 2, 2,\n",
       "        2, 2, 2, 2, 2, 2, 2, 2, 2, 2, 2, 2, 2, 2, 2, 2, 2, 2, 2, 2, 2, 2,\n",
       "        2, 2]))"
      ]
     },
     "execution_count": 9,
     "metadata": {},
     "output_type": "execute_result"
    }
   ],
   "source": [
    "X, y"
   ]
  },
  {
   "cell_type": "code",
   "execution_count": 11,
   "id": "b86a073b",
   "metadata": {},
   "outputs": [
    {
     "data": {
      "text/plain": [
       "array([[ 1.51861254, -0.5622498 ,  0.23205254, ...,  0.36217728,\n",
       "         1.84791957,  1.01300893],\n",
       "       [ 0.24628963, -0.49941338, -0.82799632, ...,  0.40605066,\n",
       "         1.1134493 ,  0.96524152],\n",
       "       [ 0.19687903,  0.02123125,  1.10933436, ...,  0.31830389,\n",
       "         0.78858745,  1.39514818],\n",
       "       ...,\n",
       "       [ 0.33275817,  1.74474449, -0.38935541, ..., -1.61212515,\n",
       "        -1.48544548,  0.28057537],\n",
       "       [ 0.20923168,  0.22769377,  0.01273209, ..., -1.56825176,\n",
       "        -1.40069891,  0.29649784],\n",
       "       [ 1.39508604,  1.58316512,  1.36520822, ..., -1.52437837,\n",
       "        -1.42894777, -0.59516041]])"
      ]
     },
     "execution_count": 11,
     "metadata": {},
     "output_type": "execute_result"
    }
   ],
   "source": [
    "scalar = StandardScaler()\n",
    "X_scalar = scalar.fit_transform(X)\n",
    "X_scalar"
   ]
  },
  {
   "cell_type": "code",
   "execution_count": 46,
   "id": "b7a8addd",
   "metadata": {},
   "outputs": [],
   "source": [
    "class WineDataset(Dataset):\n",
    "    def __init__(self, features, labels):\n",
    "        self.features = torch.tensor(features, dtype = torch.float32)\n",
    "        self.labels = torch.tensor(labels, dtype = torch.long)\n",
    "        \n",
    "    def __len__(self):\n",
    "        return len(self.features)\n",
    "    \n",
    "    def __getitem__(self, idx):\n",
    "        return self.features[idx], self.labels[idx]\n",
    "    \n",
    "    \n",
    "wine_dataset = WineDataset(X_scalar, y)"
   ]
  },
  {
   "cell_type": "code",
   "execution_count": 47,
   "id": "0b078c81",
   "metadata": {},
   "outputs": [
    {
     "name": "stdout",
     "output_type": "stream",
     "text": [
      "torch.Size([32, 13])\n",
      "torch.Size([32])\n",
      "torch.Size([32, 13])\n",
      "torch.Size([32])\n",
      "torch.Size([32, 13])\n",
      "torch.Size([32])\n",
      "torch.Size([32, 13])\n",
      "torch.Size([32])\n",
      "torch.Size([32, 13])\n",
      "torch.Size([32])\n",
      "torch.Size([18, 13])\n",
      "torch.Size([18])\n"
     ]
    }
   ],
   "source": [
    "trainloader = DataLoader(wine_dataset, batch_size=32, shuffle=True)\n",
    "\n",
    "for features, labels in trainloader:\n",
    "    print(features.shape)\n",
    "    print(labels.shape)"
   ]
  },
  {
   "cell_type": "code",
   "execution_count": 48,
   "id": "1b06f297",
   "metadata": {},
   "outputs": [
    {
     "data": {
      "text/plain": [
       "NeuralNet(\n",
       "  (fc1): Linear(in_features=13, out_features=40, bias=True)\n",
       "  (fc2): Linear(in_features=40, out_features=20, bias=True)\n",
       "  (fc3): Linear(in_features=20, out_features=3, bias=True)\n",
       ")"
      ]
     },
     "execution_count": 48,
     "metadata": {},
     "output_type": "execute_result"
    }
   ],
   "source": [
    "class NeuralNet(nn.Module):\n",
    "    def __init__(self):\n",
    "        super(NeuralNet, self).__init__()\n",
    "        self.fc1 = nn.Linear(13, 40)\n",
    "        self.fc2 = nn.Linear(40, 20)\n",
    "        self.fc3 = nn.Linear(20, 3)\n",
    "    \n",
    "    def forward(self, x):\n",
    "        x = torch.relu(self.fc1(x))\n",
    "        x = torch.relu(self.fc2(x))\n",
    "        x = self.fc3(x)\n",
    "        return x\n",
    "    \n",
    "neural_net = NeuralNet()\n",
    "neural_net"
   ]
  },
  {
   "cell_type": "markdown",
   "id": "fa9cc42f",
   "metadata": {},
   "source": [
    "# lr (Learning Rate)\n",
    "Definition: The learning rate (lr) is a scalar that determines the step size at each iteration while moving toward a minimum of the loss function.\n",
    "Purpose: It controls how much to change the model in response to the estimated error each time the model weights are updated.\n",
    "Effect:\n",
    "High Learning Rate: Can lead to faster convergence, but may overshoot the optimal solution, causing the training process to become unstable.\n",
    "Low Learning Rate: Leads to more stable convergence but requires more iterations to reach the minimum of the loss function, potentially resulting in a longer training time.\n",
    "# momentum\n",
    "Definition: Momentum is a technique that helps accelerate gradients vectors in the right directions, thus leading to faster converging.\n",
    "Purpose: It helps to dampen oscillations in the optimization process and can speed up training by gaining momentum in directions that have consistent gradients.\n",
    "Effect:\n",
    "High Momentum: Can help to overcome local minima and accelerate convergence, but if too high, it might overshoot or lead to instability.\n",
    "Low Momentum: Makes the optimizer behave more like standard gradient descent, which can be slower and more prone to getting stuck in local minima."
   ]
  },
  {
   "cell_type": "code",
   "execution_count": 55,
   "id": "2d3bd05c",
   "metadata": {},
   "outputs": [],
   "source": [
    "criterion = nn.CrossEntropyLoss()\n",
    "optimizer = optim.AdamW(neural_net.parameters(), lr=0.001, weight_decay=0.01)\n",
    "# optimizer = optim.AdamW(neural_net.parameters(), lr=0.001, betas=(0.9, 0.999), eps=1e-8, weight_decay=0.01)\n",
    "# optimizer = optim.SGD(neural_net.parameters(), lr=0.01, momentum=0.9)"
   ]
  },
  {
   "cell_type": "code",
   "execution_count": 56,
   "id": "448e6584",
   "metadata": {
    "scrolled": true
   },
   "outputs": [
    {
     "name": "stdout",
     "output_type": "stream",
     "text": [
      "Linear(in_features=20, out_features=3, bias=True)\n",
      "Epoch 1, Batch 1, Loss: 0.001\n",
      "Linear(in_features=20, out_features=3, bias=True)\n",
      "Linear(in_features=20, out_features=3, bias=True)\n",
      "Linear(in_features=20, out_features=3, bias=True)\n",
      "Linear(in_features=20, out_features=3, bias=True)\n",
      "Linear(in_features=20, out_features=3, bias=True)\n",
      "Epoch 1, Batch 6, Loss: 0.016\n",
      "Linear(in_features=20, out_features=3, bias=True)\n",
      "Epoch 2, Batch 1, Loss: 0.004\n",
      "Linear(in_features=20, out_features=3, bias=True)\n",
      "Linear(in_features=20, out_features=3, bias=True)\n",
      "Linear(in_features=20, out_features=3, bias=True)\n",
      "Linear(in_features=20, out_features=3, bias=True)\n",
      "Linear(in_features=20, out_features=3, bias=True)\n",
      "Epoch 2, Batch 6, Loss: 0.010\n",
      "Linear(in_features=20, out_features=3, bias=True)\n",
      "Epoch 3, Batch 1, Loss: 0.004\n",
      "Linear(in_features=20, out_features=3, bias=True)\n",
      "Linear(in_features=20, out_features=3, bias=True)\n",
      "Linear(in_features=20, out_features=3, bias=True)\n",
      "Linear(in_features=20, out_features=3, bias=True)\n",
      "Linear(in_features=20, out_features=3, bias=True)\n",
      "Epoch 3, Batch 6, Loss: 0.010\n",
      "Linear(in_features=20, out_features=3, bias=True)\n",
      "Epoch 4, Batch 1, Loss: 0.002\n",
      "Linear(in_features=20, out_features=3, bias=True)\n",
      "Linear(in_features=20, out_features=3, bias=True)\n",
      "Linear(in_features=20, out_features=3, bias=True)\n",
      "Linear(in_features=20, out_features=3, bias=True)\n",
      "Linear(in_features=20, out_features=3, bias=True)\n",
      "Epoch 4, Batch 6, Loss: 0.009\n",
      "Linear(in_features=20, out_features=3, bias=True)\n",
      "Epoch 5, Batch 1, Loss: 0.002\n",
      "Linear(in_features=20, out_features=3, bias=True)\n",
      "Linear(in_features=20, out_features=3, bias=True)\n",
      "Linear(in_features=20, out_features=3, bias=True)\n",
      "Linear(in_features=20, out_features=3, bias=True)\n",
      "Linear(in_features=20, out_features=3, bias=True)\n",
      "Epoch 5, Batch 6, Loss: 0.008\n",
      "Linear(in_features=20, out_features=3, bias=True)\n",
      "Epoch 6, Batch 1, Loss: 0.001\n",
      "Linear(in_features=20, out_features=3, bias=True)\n",
      "Linear(in_features=20, out_features=3, bias=True)\n",
      "Linear(in_features=20, out_features=3, bias=True)\n",
      "Linear(in_features=20, out_features=3, bias=True)\n",
      "Linear(in_features=20, out_features=3, bias=True)\n",
      "Epoch 6, Batch 6, Loss: 0.009\n",
      "Linear(in_features=20, out_features=3, bias=True)\n",
      "Epoch 7, Batch 1, Loss: 0.002\n",
      "Linear(in_features=20, out_features=3, bias=True)\n",
      "Linear(in_features=20, out_features=3, bias=True)\n",
      "Linear(in_features=20, out_features=3, bias=True)\n",
      "Linear(in_features=20, out_features=3, bias=True)\n",
      "Linear(in_features=20, out_features=3, bias=True)\n",
      "Epoch 7, Batch 6, Loss: 0.006\n",
      "Linear(in_features=20, out_features=3, bias=True)\n",
      "Epoch 8, Batch 1, Loss: 0.000\n",
      "Linear(in_features=20, out_features=3, bias=True)\n",
      "Linear(in_features=20, out_features=3, bias=True)\n",
      "Linear(in_features=20, out_features=3, bias=True)\n",
      "Linear(in_features=20, out_features=3, bias=True)\n",
      "Linear(in_features=20, out_features=3, bias=True)\n",
      "Epoch 8, Batch 6, Loss: 0.008\n",
      "Linear(in_features=20, out_features=3, bias=True)\n",
      "Epoch 9, Batch 1, Loss: 0.000\n",
      "Linear(in_features=20, out_features=3, bias=True)\n",
      "Linear(in_features=20, out_features=3, bias=True)\n",
      "Linear(in_features=20, out_features=3, bias=True)\n",
      "Linear(in_features=20, out_features=3, bias=True)\n",
      "Linear(in_features=20, out_features=3, bias=True)\n",
      "Epoch 9, Batch 6, Loss: 0.006\n",
      "Linear(in_features=20, out_features=3, bias=True)\n",
      "Epoch 10, Batch 1, Loss: 0.002\n",
      "Linear(in_features=20, out_features=3, bias=True)\n",
      "Linear(in_features=20, out_features=3, bias=True)\n",
      "Linear(in_features=20, out_features=3, bias=True)\n",
      "Linear(in_features=20, out_features=3, bias=True)\n",
      "Linear(in_features=20, out_features=3, bias=True)\n",
      "Epoch 10, Batch 6, Loss: 0.004\n"
     ]
    }
   ],
   "source": [
    "for epoch in range(10):\n",
    "    running_loss = 0.0\n",
    "    for i, data in enumerate(trainloader, 0):\n",
    "        inputs, labels = data\n",
    "        \n",
    "        optimizer.zero_grad()\n",
    "        \n",
    "        outputs = neural_net(inputs)\n",
    "        print(output)\n",
    "        loss = criterion(outputs, labels)\n",
    "        loss.backward()\n",
    "        optimizer.step()\n",
    "        \n",
    "        running_loss += loss.item()\n",
    "        if i % 5 == 0:  # print every 10 mini-batches\n",
    "            print(f'Epoch {epoch + 1}, Batch {i + 1}, Loss: {running_loss / 10:.3f}')\n",
    "            running_loss = 0.0"
   ]
  },
  {
   "cell_type": "code",
   "execution_count": 57,
   "id": "89a520b0",
   "metadata": {},
   "outputs": [
    {
     "name": "stdout",
     "output_type": "stream",
     "text": [
      "Accuracy of the network on the training set: 100.00%\n"
     ]
    }
   ],
   "source": [
    "correct = 0\n",
    "total = 0\n",
    "with torch.no_grad():\n",
    "    for data in trainloader:\n",
    "        inputs, labels = data\n",
    "        outputs = neural_net(inputs)\n",
    "        _, predicted = torch.max(outputs.data, 1)\n",
    "        total += labels.size(0)\n",
    "        correct += (predicted == labels).sum().item()\n",
    "\n",
    "print(f'Accuracy of the network on the training set: {100 * correct / total:.2f}%')\n"
   ]
  },
  {
   "cell_type": "code",
   "execution_count": null,
   "id": "2eb16b77",
   "metadata": {},
   "outputs": [],
   "source": []
  },
  {
   "cell_type": "code",
   "execution_count": null,
   "id": "f73ee043",
   "metadata": {},
   "outputs": [],
   "source": []
  }
 ],
 "metadata": {
  "kernelspec": {
   "display_name": "Python 3 (ipykernel)",
   "language": "python",
   "name": "python3"
  },
  "language_info": {
   "codemirror_mode": {
    "name": "ipython",
    "version": 3
   },
   "file_extension": ".py",
   "mimetype": "text/x-python",
   "name": "python",
   "nbconvert_exporter": "python",
   "pygments_lexer": "ipython3",
   "version": "3.10.14"
  }
 },
 "nbformat": 4,
 "nbformat_minor": 5
}
